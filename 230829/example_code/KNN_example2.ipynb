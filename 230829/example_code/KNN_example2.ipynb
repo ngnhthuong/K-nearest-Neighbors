{
 "cells": [
  {
   "cell_type": "code",
   "execution_count": 1,
   "metadata": {},
   "outputs": [],
   "source": [
    "import numpy as np\n",
    "import pandas as pd\n",
    "import math"
   ]
  },
  {
   "cell_type": "code",
   "execution_count": 13,
   "metadata": {},
   "outputs": [],
   "source": [
    "def compute_distance(df,x_test):\n",
    "    distance = []\n",
    "    for i in range(len(df[\"petal_length\"])):\n",
    "        distance_single = round(math.sqrt((df[\"petal_length\"][i] - x_test[0])**2 + (df[\"petal_width\"][i] - x_test[1])**2),3)\n",
    "        distance.append(distance_single)\n",
    "    return distance\n",
    "\n",
    "def sort_distance(df):\n",
    "    df_sorted = df.sort_values(by='distance')\n",
    "    return df_sorted\n",
    "\n",
    "def get_top_k(df_sorted, k):\n",
    "    label = df_sorted[\"label\"][:k]\n",
    "    return label\n",
    "\n",
    "def voting_label(label_top_k):\n",
    "    label_0 = 0\n",
    "    label_1 = 1\n",
    "    for i in label_top_k:\n",
    "        if i == 0:\n",
    "            label_0 += 1\n",
    "        elif i == 1:\n",
    "            label_1 += 1\n",
    "    if label_1 > label_0:\n",
    "        return 1\n",
    "    elif label_0 > label_1:\n",
    "        return 0\n",
    "    else:\n",
    "        return 0,1"
   ]
  },
  {
   "cell_type": "code",
   "execution_count": 16,
   "metadata": {},
   "outputs": [
    {
     "name": "stdout",
     "output_type": "stream",
     "text": [
      "   petal_length  petal_width  label  distance\n",
      "0           1.4          0.2      0     1.166\n",
      "1           1.3          0.4      0     1.170\n",
      "2           1.4          0.3      0     1.118\n",
      "3           4.0          1.0      1     1.612\n",
      "4           4.7          1.4      1     2.377\n",
      "5           3.6          1.3      1     1.300\n",
      "   petal_length  petal_width  label  distance\n",
      "2           1.4          0.3      0     1.118\n",
      "0           1.4          0.2      0     1.166\n",
      "1           1.3          0.4      0     1.170\n",
      "5           3.6          1.3      1     1.300\n",
      "3           4.0          1.0      1     1.612\n",
      "4           4.7          1.4      1     2.377\n",
      "label of x_test [2.4, 0.8] is: 0\n"
     ]
    }
   ],
   "source": [
    "# Step 1: Prepare data \n",
    "petal_length = [1.4,1.3,1.4,4,4.7,3.6]\n",
    "petal_width = [0.2,0.4,0.3,1,1.4,1.3]\n",
    "label = [0,0,0,1,1,1]\n",
    "df = pd.DataFrame({'petal_length': petal_length, 'petal_width': petal_width, 'label': label })\n",
    "#Select K \n",
    "k = 3\n",
    "#New input data\n",
    "x_test = [2.4,0.8]\n",
    "# Step 2: Compute distance\n",
    "df[\"distance\"] = compute_distance(df, x_test)\n",
    "print(df)\n",
    "# Step 3: Sorted \n",
    "df_sorted = sort_distance(df)\n",
    "print(df_sorted)\n",
    "# Step 4: Get top following K\n",
    "label_top_k = get_top_k(df_sorted, k)\n",
    "# Step 5: Voting \n",
    "print(f'label of x_test {x_test} is: {voting_label(label_top_k)}')\n",
    "    \n"
   ]
  },
  {
   "cell_type": "code",
   "execution_count": null,
   "metadata": {},
   "outputs": [],
   "source": []
  }
 ],
 "metadata": {
  "kernelspec": {
   "display_name": "pytorch_env",
   "language": "python",
   "name": "python3"
  },
  "language_info": {
   "codemirror_mode": {
    "name": "ipython",
    "version": 3
   },
   "file_extension": ".py",
   "mimetype": "text/x-python",
   "name": "python",
   "nbconvert_exporter": "python",
   "pygments_lexer": "ipython3",
   "version": "3.10.13"
  }
 },
 "nbformat": 4,
 "nbformat_minor": 2
}
