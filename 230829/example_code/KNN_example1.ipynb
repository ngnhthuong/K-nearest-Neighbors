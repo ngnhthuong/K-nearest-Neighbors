{
 "cells": [
  {
   "cell_type": "code",
   "execution_count": 4,
   "metadata": {},
   "outputs": [],
   "source": [
    "import math\n",
    "import numpy as np\n",
    "import pandas as pd"
   ]
  },
  {
   "cell_type": "code",
   "execution_count": 23,
   "metadata": {},
   "outputs": [
    {
     "name": "stdout",
     "output_type": "stream",
     "text": [
      "3    1\n",
      "4    1\n",
      "5    1\n",
      "Name: label, dtype: int64\n",
      "result of x_test: 3 is: 1\n"
     ]
    }
   ],
   "source": [
    "#Compute distance of KNN\n",
    "def compute_distance(df, x_test):\n",
    "    distance = []\n",
    "    for i in df['petal_length']:\n",
    "        distance_df = math.sqrt((i - x_test)**2)\n",
    "        distance.append(distance_df)\n",
    "    return distance \n",
    "\n",
    "#Compute label\n",
    "def compute_label_k(label_k):\n",
    "    label_1 = 0\n",
    "    label_0 = 0\n",
    "    for i in label_k:\n",
    "        if i == 1:\n",
    "            label_1 +=1\n",
    "        elif i == 0:\n",
    "            label_0 +=1\n",
    "    return label_0, label_1\n",
    " \n",
    "\n",
    "#Find neighbors and vote label\n",
    "def sort_and_label(df, k):\n",
    "    #Sort\n",
    "    df_sorted = df.sort_values(by='distance')\n",
    "    #Get top K\n",
    "    label_k = df_sorted['label'][:k]\n",
    "    print(label_k)\n",
    "    #Vote\n",
    "    compute_label = compute_label_k(label_k)\n",
    "    if  compute_label[0] > compute_label[1]:\n",
    "        return 0\n",
    "    elif compute_label[1] > compute_label[0]:\n",
    "        return 1\n",
    "    else:\n",
    "        return 0, 1\n",
    "\n",
    "    \n",
    "# Step 1: Prepare dataset and select K\n",
    "petal_length = [1.4, 1, 1.5, 3.1, 3.7, 4.1]\n",
    "label = [0, 0, 0, 1, 1, 1]\n",
    "df = pd.DataFrame({'petal_length': petal_length, 'label': label})\n",
    "x_test = 3\n",
    "# Select K\n",
    "k = 3\n",
    "\n",
    "#Step 2: Compute distance\n",
    "df['distance'] = compute_distance(df, x_test)\n",
    "\n",
    "#Step 3-4-5: Sort, get top K, vote\n",
    "print(f'result of x_test: {x_test} is: {sort_and_label(df, k)}')\n"
   ]
  },
  {
   "cell_type": "code",
   "execution_count": 24,
   "metadata": {},
   "outputs": [
    {
     "data": {
      "text/html": [
       "<div>\n",
       "<style scoped>\n",
       "    .dataframe tbody tr th:only-of-type {\n",
       "        vertical-align: middle;\n",
       "    }\n",
       "\n",
       "    .dataframe tbody tr th {\n",
       "        vertical-align: top;\n",
       "    }\n",
       "\n",
       "    .dataframe thead th {\n",
       "        text-align: right;\n",
       "    }\n",
       "</style>\n",
       "<table border=\"1\" class=\"dataframe\">\n",
       "  <thead>\n",
       "    <tr style=\"text-align: right;\">\n",
       "      <th></th>\n",
       "      <th>petal_length</th>\n",
       "      <th>label</th>\n",
       "      <th>distance</th>\n",
       "    </tr>\n",
       "  </thead>\n",
       "  <tbody>\n",
       "    <tr>\n",
       "      <th>0</th>\n",
       "      <td>1.4</td>\n",
       "      <td>0</td>\n",
       "      <td>1.6</td>\n",
       "    </tr>\n",
       "    <tr>\n",
       "      <th>1</th>\n",
       "      <td>1.0</td>\n",
       "      <td>0</td>\n",
       "      <td>2.0</td>\n",
       "    </tr>\n",
       "    <tr>\n",
       "      <th>2</th>\n",
       "      <td>1.5</td>\n",
       "      <td>0</td>\n",
       "      <td>1.5</td>\n",
       "    </tr>\n",
       "    <tr>\n",
       "      <th>3</th>\n",
       "      <td>3.1</td>\n",
       "      <td>1</td>\n",
       "      <td>0.1</td>\n",
       "    </tr>\n",
       "    <tr>\n",
       "      <th>4</th>\n",
       "      <td>3.7</td>\n",
       "      <td>1</td>\n",
       "      <td>0.7</td>\n",
       "    </tr>\n",
       "    <tr>\n",
       "      <th>5</th>\n",
       "      <td>4.1</td>\n",
       "      <td>1</td>\n",
       "      <td>1.1</td>\n",
       "    </tr>\n",
       "  </tbody>\n",
       "</table>\n",
       "</div>"
      ],
      "text/plain": [
       "   petal_length  label  distance\n",
       "0           1.4      0       1.6\n",
       "1           1.0      0       2.0\n",
       "2           1.5      0       1.5\n",
       "3           3.1      1       0.1\n",
       "4           3.7      1       0.7\n",
       "5           4.1      1       1.1"
      ]
     },
     "execution_count": 24,
     "metadata": {},
     "output_type": "execute_result"
    }
   ],
   "source": [
    "df"
   ]
  },
  {
   "cell_type": "code",
   "execution_count": null,
   "metadata": {},
   "outputs": [],
   "source": []
  }
 ],
 "metadata": {
  "kernelspec": {
   "display_name": "pytorch_env",
   "language": "python",
   "name": "python3"
  },
  "language_info": {
   "codemirror_mode": {
    "name": "ipython",
    "version": 3
   },
   "file_extension": ".py",
   "mimetype": "text/x-python",
   "name": "python",
   "nbconvert_exporter": "python",
   "pygments_lexer": "ipython3",
   "version": "3.10.13"
  }
 },
 "nbformat": 4,
 "nbformat_minor": 2
}
